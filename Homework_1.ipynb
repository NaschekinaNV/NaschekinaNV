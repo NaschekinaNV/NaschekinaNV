{
  "nbformat": 4,
  "nbformat_minor": 0,
  "metadata": {
    "colab": {
      "name": "Homework_1.ipynb",
      "provenance": [],
      "collapsed_sections": [],
      "authorship_tag": "ABX9TyMaSg1LdpplKJmdAOBlWnws",
      "include_colab_link": true
    },
    "kernelspec": {
      "name": "python3",
      "display_name": "Python 3"
    },
    "language_info": {
      "name": "python"
    }
  },
  "cells": [
    {
      "cell_type": "markdown",
      "metadata": {
        "id": "view-in-github",
        "colab_type": "text"
      },
      "source": [
        "<a href=\"https://colab.research.google.com/github/NaschekinaNV/NaschekinaNV/blob/master/Homework_1.ipynb\" target=\"_parent\"><img src=\"https://colab.research.google.com/assets/colab-badge.svg\" alt=\"Open In Colab\"/></a>"
      ]
    },
    {
      "cell_type": "markdown",
      "source": [
        "# Новый раздел"
      ],
      "metadata": {
        "id": "BVp-ZT2QTmNz"
      }
    },
    {
      "cell_type": "markdown",
      "source": [
        "1.Код для подсчёта суммы элементов в списке."
      ],
      "metadata": {
        "id": "xkZlqyf_N6jZ"
      }
    },
    {
      "cell_type": "code",
      "execution_count": null,
      "metadata": {
        "colab": {
          "base_uri": "https://localhost:8080/"
        },
        "id": "557DtXxQjNNF",
        "outputId": "a486aa84-34ab-4c83-bd56-7c9c934036fe"
      },
      "outputs": [
        {
          "output_type": "stream",
          "name": "stdout",
          "text": [
            "<class 'list'>\n",
            "57\n"
          ]
        }
      ],
      "source": [
        "list1=[2, 4, 6, 8, 10, 12, 15]\n",
        "print(type(list1))\n",
        "print(sum(list1))\n",
        "# привет 2"
      ]
    },
    {
      "cell_type": "markdown",
      "source": [
        "2.a Код для выявления дубликатов в списке."
      ],
      "metadata": {
        "id": "rZVpj5TjOKIY"
      }
    },
    {
      "cell_type": "code",
      "source": [
        "list2=['a', 'b', 'c', 'b', 'd', 'm', 'n', 'n', 'z', 'z', 'z', 'a']\n",
        "duplicate = []\n",
        "for i in list2:\n",
        "  if i not in duplicate and list2.count(i)>1:\n",
        "    duplicate.append(i)\n",
        "print(duplicate)"
      ],
      "metadata": {
        "colab": {
          "base_uri": "https://localhost:8080/"
        },
        "id": "QrXd-IVqkwpX",
        "outputId": "9ebc7d50-b6f6-4945-b64e-b1e9188ed5d6"
      },
      "execution_count": null,
      "outputs": [
        {
          "output_type": "stream",
          "name": "stdout",
          "text": [
            "['a', 'b', 'n', 'z']\n"
          ]
        }
      ]
    },
    {
      "cell_type": "markdown",
      "source": [
        "2.b Код для подсчёта количества различных значений."
      ],
      "metadata": {
        "id": "VeIFcP6TORfU"
      }
    },
    {
      "cell_type": "code",
      "source": [
        "# Вариант 1. Преобразую список во множество -остаются только уникальные элементы.\n",
        "#Считаем длину множества. \n",
        "list2=['a', 'b', 'c', 'b', 'd', 'm', 'n', 'n', 'z', 'z', 'z', 'a']\n",
        "s=set(list2)\n",
        "print(s)\n",
        "print(len(s))"
      ],
      "metadata": {
        "colab": {
          "base_uri": "https://localhost:8080/"
        },
        "id": "YKxrpMwHlT3M",
        "outputId": "86e11135-f622-4e3d-a813-457b78df4999"
      },
      "execution_count": null,
      "outputs": [
        {
          "output_type": "stream",
          "name": "stdout",
          "text": [
            "{'c', 'a', 'm', 'n', 'd', 'z', 'b'}\n",
            "7\n"
          ]
        }
      ]
    },
    {
      "cell_type": "code",
      "source": [
        "# Вариант 2. Через for\n",
        "list2=['a', 'b', 'c', 'b', 'd', 'm', 'n', 'n', 'z', 'z', 'z', 'a']\n",
        "c=[]\n",
        "count=0\n",
        "for i in list2:\n",
        "  if i not in c:\n",
        "    count+=1\n",
        "    c.append(i)\n",
        "print(count)\n",
        "print(c)"
      ],
      "metadata": {
        "colab": {
          "base_uri": "https://localhost:8080/"
        },
        "id": "1AIasosalnTx",
        "outputId": "d7557565-a65c-469c-93f2-5e98e813ccff"
      },
      "execution_count": null,
      "outputs": [
        {
          "output_type": "stream",
          "name": "stdout",
          "text": [
            "7\n",
            "['a', 'b', 'c', 'd', 'm', 'n', 'z']\n"
          ]
        }
      ]
    },
    {
      "cell_type": "markdown",
      "source": [
        "2.c Код для вычисления трёх самых часто встречающихся элементов."
      ],
      "metadata": {
        "id": "Wdi_rxJ5OpyM"
      }
    },
    {
      "cell_type": "code",
      "source": [
        "list2=['a', 'b', 'c', 'b', 'd', 'm', 'n', 'n', 'z', 'z', 'z', 'a']\n",
        "print('Исходный список:', list2)\n",
        "\n",
        "uniq_simbol = dict((i, list2.count(i)) for i in list2)\n",
        "print('Словарь уникальных значений и кол-во их повторений (без сортировки):',uniq_simbol)\n",
        "\n",
        "uniq_simbol2={k: uniq_simbol[k] for k in sorted(uniq_simbol, key=uniq_simbol.get, reverse=True)}\n",
        "print('Словарь уникальных значений и кол-во их повторений (сортировка по убыванию):',uniq_simbol2)\n",
        "\n",
        "print('TOP-3:')\n",
        "x=iter(uniq_simbol2)\n",
        "for i in range(3):\n",
        "  key=next(x)\n",
        "  print(key, uniq_simbol2[key])"
      ],
      "metadata": {
        "colab": {
          "base_uri": "https://localhost:8080/"
        },
        "id": "nwNzMoy2S9t2",
        "outputId": "dd5b342c-3ce1-432b-ef77-3735214d8a83"
      },
      "execution_count": null,
      "outputs": [
        {
          "output_type": "stream",
          "name": "stdout",
          "text": [
            "Исходный список: ['a', 'b', 'c', 'b', 'd', 'm', 'n', 'n', 'z', 'z', 'z', 'a']\n",
            "Словарь уникальных значений и кол-во их повторений (без сортировки): {'a': 2, 'b': 2, 'c': 1, 'd': 1, 'm': 1, 'n': 2, 'z': 3}\n",
            "Словарь уникальных значений и кол-во их повторений (сортировка по убыванию): {'z': 3, 'a': 2, 'b': 2, 'n': 2, 'c': 1, 'd': 1, 'm': 1}\n",
            "TOP-3:\n",
            "z 3\n",
            "a 2\n",
            "b 2\n"
          ]
        }
      ]
    },
    {
      "cell_type": "code",
      "source": [
        "list2=['a', 'b', 'c', 'b', 'd', 'm', 'n', 'n', 'z', 'z', 'z', 'a']\n",
        "print('Исходный список:')\n",
        "print(list2)\n",
        "uniq_simbol = []\n",
        "count_uniq_simbol = []\n",
        "for i in list2:\n",
        "  if i not in uniq_simbol: \n",
        "    uniq_simbol.append(i)\n",
        "    count_uniq_simbol.append(list2.count(i))\n",
        "print('Список уникальных значений и кол-во их повторений (без сортировки):')\n",
        "print(uniq_simbol)\n",
        "print(count_uniq_simbol)\n",
        "for i in range(0,len(count_uniq_simbol)-1):# метод всплывающих пузырьков\n",
        "  for j in range(i+1,len(count_uniq_simbol)):\n",
        "    if count_uniq_simbol[i]<count_uniq_simbol[j]:\n",
        "      # в переменные запомнил i-ое значение списков count_uniq_simbol, uniq_simbol\n",
        "      count_uniq_simbol_tmp=count_uniq_simbol[i]\n",
        "      uniq_simbol_tmp=uniq_simbol[i]\n",
        "      # в i-ое значение поменстил j-ое значение\n",
        "      count_uniq_simbol[i]=count_uniq_simbol[j]\n",
        "      uniq_simbol[i]=uniq_simbol[j]\n",
        "      # в j-ое значение поменстил значения из переменных\n",
        "      count_uniq_simbol[j]=count_uniq_simbol_tmp\n",
        "      uniq_simbol[j]=uniq_simbol_tmp\n",
        "print('Список уникальных значений и кол-во их повторений (сортировка по убыванию):')\n",
        "print(uniq_simbol)\n",
        "print(count_uniq_simbol)\n",
        "print('Список 3-х максимальных повторений:')\n",
        "for i in range(0,3):\n",
        "  print(uniq_simbol[i],count_uniq_simbol[i])"
      ],
      "metadata": {
        "colab": {
          "base_uri": "https://localhost:8080/"
        },
        "id": "fQg117Dw450A",
        "outputId": "3d89cb3f-ca80-4850-b47b-7154851c408a"
      },
      "execution_count": null,
      "outputs": [
        {
          "output_type": "stream",
          "name": "stdout",
          "text": [
            "Исходный список:\n",
            "['a', 'b', 'c', 'b', 'd', 'm', 'n', 'n', 'z', 'z', 'z', 'a']\n",
            "Список уникальных значений и кол-во их повторений (без сортировки):\n",
            "['a', 'b', 'c', 'd', 'm', 'n', 'z']\n",
            "[2, 2, 1, 1, 1, 2, 3]\n",
            "Список уникальных значений и кол-во их повторений (сортировка по убыванию):\n",
            "['z', 'b', 'n', 'a', 'm', 'c', 'd']\n",
            "[3, 2, 2, 2, 1, 1, 1]\n",
            "Список 3-х максимальных повторений:\n",
            "z 3\n",
            "b 2\n",
            "n 2\n"
          ]
        }
      ]
    },
    {
      "cell_type": "code",
      "source": [
        "list_2 = ['a', 'b', 'c', 'b', 'd', 'm', 'n', 'n', 'z', 'z', 'z', 'a' ]\n",
        "f = {}\n",
        "for item_str in list_2:\n",
        "  f[item_str] = list_2.count(item_str)\n",
        "print('f=',f)\n",
        "\n",
        "list_double = []\n",
        "for key in f:\n",
        "  if f[key] > 1:\n",
        "    print('key=',key,'f[key]=',f[key])\n",
        "    list_double.append(key)\n",
        "print('Дубликаты:', list_double)\n",
        "\n",
        "print ('Число различных значений:',len(f))\n",
        "\n",
        "f_new ={} \n",
        "for  v in sorted( f, key = f.get,  reverse=True)[:3]:\n",
        "   f_new[v]=f[v]\n",
        "print(\"Top 3:\",f_new)"
      ],
      "metadata": {
        "colab": {
          "base_uri": "https://localhost:8080/"
        },
        "id": "JogJcIMOIHaZ",
        "outputId": "53794e35-7f99-4a4e-cc1f-74c3d7767aa1"
      },
      "execution_count": null,
      "outputs": [
        {
          "output_type": "stream",
          "name": "stdout",
          "text": [
            "f= {'a': 2, 'b': 2, 'c': 1, 'd': 1, 'm': 1, 'n': 2, 'z': 3}\n",
            "key= a f[key]= 2\n",
            "key= b f[key]= 2\n",
            "key= n f[key]= 2\n",
            "key= z f[key]= 3\n",
            "Дубликаты: ['a', 'b', 'n', 'z']\n",
            "Число различных значений: 7\n",
            "Top 3: {'z': 3, 'a': 2, 'b': 2}\n"
          ]
        }
      ]
    },
    {
      "cell_type": "markdown",
      "source": [
        "# Новый раздел"
      ],
      "metadata": {
        "id": "2BFkvZORpo3a"
      }
    },
    {
      "cell_type": "code",
      "source": [
        "from collections import Counter\n",
        "b = ['a', 'b', 'c', 'b', 'd', 'm', 'n', 'n', 'z', 'z', 'z', 'a' ]\n",
        "for i in set(b):\n",
        "  if b.count(i)>1:\n",
        "    print(i,end=' ')\n",
        "d=set(b)    \n",
        "print(' ')\n",
        "print(len(d))\n",
        "c.most_common(3)"
      ],
      "metadata": {
        "colab": {
          "base_uri": "https://localhost:8080/",
          "height": 235
        },
        "id": "T5myAcd1MRoA",
        "outputId": "0ba9cfe8-d292-4614-af91-ebbfbb38985e"
      },
      "execution_count": null,
      "outputs": [
        {
          "output_type": "stream",
          "name": "stdout",
          "text": [
            "z b n a  \n",
            "7\n"
          ]
        },
        {
          "output_type": "error",
          "ename": "NameError",
          "evalue": "ignored",
          "traceback": [
            "\u001b[0;31m---------------------------------------------------------------------------\u001b[0m",
            "\u001b[0;31mNameError\u001b[0m                                 Traceback (most recent call last)",
            "\u001b[0;32m<ipython-input-16-33853f4fa9e2>\u001b[0m in \u001b[0;36m<module>\u001b[0;34m()\u001b[0m\n\u001b[1;32m      7\u001b[0m \u001b[0mprint\u001b[0m\u001b[0;34m(\u001b[0m\u001b[0;34m' '\u001b[0m\u001b[0;34m)\u001b[0m\u001b[0;34m\u001b[0m\u001b[0;34m\u001b[0m\u001b[0m\n\u001b[1;32m      8\u001b[0m \u001b[0mprint\u001b[0m\u001b[0;34m(\u001b[0m\u001b[0mlen\u001b[0m\u001b[0;34m(\u001b[0m\u001b[0md\u001b[0m\u001b[0;34m)\u001b[0m\u001b[0;34m)\u001b[0m\u001b[0;34m\u001b[0m\u001b[0;34m\u001b[0m\u001b[0m\n\u001b[0;32m----> 9\u001b[0;31m \u001b[0mc\u001b[0m\u001b[0;34m.\u001b[0m\u001b[0mmost_common\u001b[0m\u001b[0;34m(\u001b[0m\u001b[0;36m3\u001b[0m\u001b[0;34m)\u001b[0m\u001b[0;34m\u001b[0m\u001b[0;34m\u001b[0m\u001b[0m\n\u001b[0m",
            "\u001b[0;31mNameError\u001b[0m: name 'c' is not defined"
          ]
        }
      ]
    },
    {
      "cell_type": "markdown",
      "source": [
        "# Новый раздел"
      ],
      "metadata": {
        "id": "P8n9AYAFppRJ"
      }
    },
    {
      "cell_type": "markdown",
      "source": [
        "3. В переменной picture записан список из списков (или матрица 6х7). Вам\n",
        "необходимо написать код, который пройдет по всем элементам списка,\n",
        "напечатает в консоль вместо 0 символ пробела (‘ ’), а вместо 1 -- ‘*’\n",
        "(звездочку) в том же порядке, в каком идут элементы в матрице."
      ],
      "metadata": {
        "id": "ptvd0exHPUws"
      }
    },
    {
      "cell_type": "code",
      "source": [
        "picture = [\n",
        "[0,0,0,1,0,0,0],\n",
        "[0,0,1,1,1,0,0],\n",
        "[0,1,1,1,1,1,0],\n",
        "[1,1,1,1,1,1,1],\n",
        "[0,0,0,1,0,0,0],\n",
        "[0,0,0,1,0,0,0]\n",
        "]\n",
        "for i in range(6):\n",
        "  s=''\n",
        "  for j in range(7):\n",
        "    if picture[i][j] == 0:\n",
        "      s +=' '\n",
        "    else:\n",
        "      s += '*'\n",
        "  print(s)      \n",
        "  "
      ],
      "metadata": {
        "colab": {
          "base_uri": "https://localhost:8080/"
        },
        "id": "AIKkOofWu2Wf",
        "outputId": "b2eb97b4-790d-4e07-f79d-44d5c2fd3c27"
      },
      "execution_count": null,
      "outputs": [
        {
          "output_type": "stream",
          "name": "stdout",
          "text": [
            "   *   \n",
            "  ***  \n",
            " ***** \n",
            "*******\n",
            "   *   \n",
            "   *   \n"
          ]
        }
      ]
    },
    {
      "cell_type": "code",
      "source": [
        "picture = [\n",
        "[0,0,0,1,0,0,0],\n",
        "[0,0,1,1,1,0,0],\n",
        "[0,1,1,1,1,1,0],\n",
        "[1,1,1,1,1,1,1],\n",
        "[0,0,0,1,0,0,0],\n",
        "[0,0,0,1,0,0,0]\n",
        "]\n",
        "for i in range (6):\n",
        "    for j in range (7):\n",
        "      if picture[i][j] == 0:\n",
        "        print(' ', end='')\n",
        "      else:\n",
        "        print('*', end='') \n",
        "    print()   "
      ],
      "metadata": {
        "colab": {
          "base_uri": "https://localhost:8080/"
        },
        "id": "l3SS0711mh58",
        "outputId": "0be0b3b8-d3e3-475d-f5d9-a06a633013d5"
      },
      "execution_count": null,
      "outputs": [
        {
          "output_type": "stream",
          "name": "stdout",
          "text": [
            "   *   \n",
            "  ***  \n",
            " ***** \n",
            "*******\n",
            "   *   \n",
            "   *   \n"
          ]
        }
      ]
    },
    {
      "cell_type": "markdown",
      "source": [
        "Находим 1 элемент с максимальным количеством повторений"
      ],
      "metadata": {
        "id": "F8sLr0n7sGN9"
      }
    }
  ]
}